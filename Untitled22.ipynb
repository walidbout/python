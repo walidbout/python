{
 "cells": [
  {
   "cell_type": "code",
   "execution_count": 1,
   "id": "5c4fca51",
   "metadata": {},
   "outputs": [],
   "source": [
    "def calculator(num1,num2):\n",
    "    touche= input(\"choose an operator (+,-,*,/)\") \n",
    "    while touche not in  [\"+\",\"-\",\"*\",\"/\"] :\n",
    "         touche= input(\"operator error, choose (+,-,*,/)\")\n",
    "    \n",
    "    if touche == \"+\":\n",
    "        return num1+num2\n",
    "    elif touche == \"-\":\n",
    "        return num1-num2\n",
    "    elif touche == \"*\":\n",
    "        return num1*num2\n",
    "    elif touche == \"/\":\n",
    "        while num2==0:\n",
    "            print(\"Error:division by 0!\")\n",
    "            num2=int(input(\"choose a value other than 0\"))\n",
    "        return num1/num2\n",
    "        "
   ]
  },
  {
   "cell_type": "code",
   "execution_count": null,
   "id": "3fd1b3e4",
   "metadata": {},
   "outputs": [],
   "source": [
    "calculator(5,10)\n"
   ]
  },
  {
   "cell_type": "code",
   "execution_count": null,
   "id": "fb408a41",
   "metadata": {},
   "outputs": [],
   "source": [
    "calculator(5,0)"
   ]
  }
 ],
 "metadata": {
  "kernelspec": {
   "display_name": "Python 3 (ipykernel)",
   "language": "python",
   "name": "python3"
  },
  "language_info": {
   "codemirror_mode": {
    "name": "ipython",
    "version": 3
   },
   "file_extension": ".py",
   "mimetype": "text/x-python",
   "name": "python",
   "nbconvert_exporter": "python",
   "pygments_lexer": "ipython3",
   "version": "3.10.9"
  }
 },
 "nbformat": 4,
 "nbformat_minor": 5
}
