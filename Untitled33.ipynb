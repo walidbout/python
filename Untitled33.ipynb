{
 "cells": [
  {
   "cell_type": "code",
   "execution_count": 1,
   "id": "183d9338",
   "metadata": {},
   "outputs": [
    {
     "name": "stdout",
     "output_type": "stream",
     "text": [
      "(1, 2, 3)\n"
     ]
    }
   ],
   "source": [
    "class Point3D:\n",
    "    def __init__(self, x, y, z):\n",
    "        self.x = x\n",
    "        self.y = y\n",
    "        self.z = z\n",
    "\n",
    "    def get_coordinates(self):\n",
    "        return self.x, self.y, self.z\n",
    "\n",
    "# Create an instance of Point3D with x=1, y=2, and z=3\n",
    "my_point = Point3D(1, 2, 3)\n",
    "\n",
    "# Print the coordinates of the Point3D instance\n",
    "print(my_point.get_coordinates())"
   ]
  },
  {
   "cell_type": "code",
   "execution_count": 2,
   "id": "a2da0954",
   "metadata": {},
   "outputs": [
    {
     "name": "stdout",
     "output_type": "stream",
     "text": [
      "Area: <bound method Rectangle.area of <__main__.Rectangle object at 0x0000019AB4812B90>>\n",
      "Perimter: <bound method Rectangle.perimeter of <__main__.Rectangle object at 0x0000019AB4812B90>>\n"
     ]
    }
   ],
   "source": [
    "class Rectangle:\n",
    "    def __init__(self,length,width):\n",
    "        self.length = length\n",
    "        self.width = width\n",
    "    \n",
    "    def area(self):\n",
    "        return self.length*self.width\n",
    "    \n",
    "    def perimeter(self):\n",
    "        return 2 * (self.length +self.width )\n",
    "        \n",
    "        \n",
    "#creating an instance of rectangle with width=3 and length=4\n",
    "my_rectangle= Rectangle(length=4, width=3)\n",
    "\n",
    "#computing the are and perimeter of the rectangle\n",
    "area= my_rectangle.area\n",
    "perimeter= my_rectangle.perimeter\n",
    "\n",
    "print(\"Area:\", area)\n",
    "print(\"Perimter:\", perimeter)\n",
    "            "
   ]
  },
  {
   "cell_type": "code",
   "execution_count": 10,
   "id": "4f4a9981",
   "metadata": {},
   "outputs": [
    {
     "name": "stdout",
     "output_type": "stream",
     "text": [
      "78.53981633974483\n",
      "31.41592653589793\n"
     ]
    }
   ],
   "source": [
    "import math\n",
    "class Circle:\n",
    "    def __init__(self,x_center, y_center, radius):\n",
    "        self.x_center = x_center\n",
    "        self.y_center = y_center\n",
    "        self.radius = radius\n",
    "    def area(self):\n",
    "        return math.pi* self.radius**2 \n",
    "    def perimeter(self):\n",
    "        return 2* math.pi * self.radius\n",
    "    def is_inside(self,x,y):\n",
    "        if((self,x_center - x)**2 +(self,y_center - y)**2 - self,radius **3)==0 :\n",
    "            return True\n",
    "        else:\n",
    "            return False\n",
    "my_circle = Circle(3,4,5)\n",
    "print(my_circle.area())\n",
    "print(my_circle.perimeter())\n",
    "\n"
   ]
  },
  {
   "cell_type": "code",
   "execution_count": 17,
   "id": "756f5d1e",
   "metadata": {},
   "outputs": [
    {
     "data": {
      "text/plain": [
       "-10"
      ]
     },
     "execution_count": 17,
     "metadata": {},
     "output_type": "execute_result"
    }
   ],
   "source": [
    "class Bank:\n",
    "    def __init__(self,balance = 0):\n",
    "        self.balance = balance\n",
    "    def deposit(self,amount):\n",
    "        self.balance = self.balance + amount\n",
    "    def withdraw (self,amount):\n",
    "        self.balance = self.balance - amount\n",
    "    def Balance(self):\n",
    "        return self.balance\n",
    "my_bank = Bank(5)\n",
    "my_bank.withdraw(15)\n",
    "my_bank.Balance()\n"
   ]
  },
  {
   "cell_type": "code",
   "execution_count": null,
   "id": "ea36add5",
   "metadata": {},
   "outputs": [],
   "source": []
  },
  {
   "cell_type": "code",
   "execution_count": null,
   "id": "1b060622",
   "metadata": {},
   "outputs": [],
   "source": []
  },
  {
   "cell_type": "code",
   "execution_count": null,
   "id": "01f07759",
   "metadata": {},
   "outputs": [],
   "source": []
  }
 ],
 "metadata": {
  "kernelspec": {
   "display_name": "Python 3 (ipykernel)",
   "language": "python",
   "name": "python3"
  },
  "language_info": {
   "codemirror_mode": {
    "name": "ipython",
    "version": 3
   },
   "file_extension": ".py",
   "mimetype": "text/x-python",
   "name": "python",
   "nbconvert_exporter": "python",
   "pygments_lexer": "ipython3",
   "version": "3.10.9"
  }
 },
 "nbformat": 4,
 "nbformat_minor": 5
}
