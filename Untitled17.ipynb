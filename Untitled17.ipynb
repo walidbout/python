{
 "cells": [
  {
   "cell_type": "code",
   "execution_count": null,
   "id": "16767561",
   "metadata": {},
   "outputs": [],
   "source": [
    "import random \n",
    "a=random.randint(1,100)\n",
    "while true:\n",
    "    \n",
    "    \n",
    "    b=int(input(\"entez un nombre entre 1 et 100\"))\n",
    "    if 1<b and b<100:\n",
    "        print(b)\n",
    "        break\n",
    "    else:\n",
    "        b=int(input(\"erreur,entez un nombre entre 1 et 100\"))\n",
    "        if 1<b and b<100:\n",
    "            print(b)\n",
    "            break\n",
    "    else:\n",
    "            continue\n",
    "i=0\n",
    "while i<3:\n",
    "    if a==b:\n",
    "        print(\"congratulations\")\n",
    "        break\n",
    "    elif a<b:\n",
    "        print(\"lower\")\n",
    "        while true:\n",
    "            b=int(input(\"entez un nombre entre 1 et 100\"))\n",
    "            if 1<b and b<100:\n",
    "                print(b)\n",
    "                break\n",
    "            else:\n",
    "                b=int(input(\"erreue,entez un nombre entre 1 et 100\"))\n",
    "                if 1<b and b<100:\n",
    "                    print(b)\n",
    "                    break\n",
    "                else:\n",
    "                    continue\n",
    "        i=i+1\n",
    "    else:\n",
    "        print(\"higher\")\n",
    "        while true:\n",
    "            b=int(input(\"entez un nombre entre 1 et 100\"))\n",
    "        if 1<b and b<100:\n",
    "            print(b)\n",
    "            break\n",
    "        else:\n",
    "            b=int(input(\"erreur,entez u nombre entre 1 et 100\"))\n",
    "            if 1<b and b<100:\n",
    "                print(b)\n",
    "                break\n",
    "            else:\n",
    "                continue\n",
    "        i=i+1"
   ]
  }
 ],
 "metadata": {
  "kernelspec": {
   "display_name": "Python 3 (ipykernel)",
   "language": "python",
   "name": "python3"
  },
  "language_info": {
   "codemirror_mode": {
    "name": "ipython",
    "version": 3
   },
   "file_extension": ".py",
   "mimetype": "text/x-python",
   "name": "python",
   "nbconvert_exporter": "python",
   "pygments_lexer": "ipython3",
   "version": "3.10.9"
  }
 },
 "nbformat": 4,
 "nbformat_minor": 5
}
