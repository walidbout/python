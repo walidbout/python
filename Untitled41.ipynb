{
 "cells": [
  {
   "cell_type": "code",
   "execution_count": null,
   "id": "8ca3f4ec",
   "metadata": {},
   "outputs": [],
   "source": [
    "import numpy as np\n",
    "import pandas as pd\n",
    "\n",
    "# Create the DataFrame\n",
    "exam_data = {\n",
    "    'name': ['Anastasia', 'Dima', 'Katherine', 'James', 'Emily', 'Michael', 'Matthew', 'Laura', 'Kevin', 'Jonas'],\n",
    "    'score': [12.5, 9, 16.5, np.nan, 9, 20, 14.5, np.nan, 8, 19],\n",
    "    'attempts': [1, 3, 2, 3, 2, 3, 1, 1, 2, 1],\n",
    "    'qualify': ['yes', 'no', 'yes', 'no', 'no', 'yes', 'yes', 'no', 'no', 'yes']\n",
    "}\n",
    "\n",
    "labels = ['a', 'b', 'c', 'd', 'e', 'f', 'g', 'h', 'i', 'j']\n",
    "\n",
    "df = pd.DataFrame(exam_data, index=labels)\n",
    "\n",
    "# Display the first three rows\n",
    "print(\"First three rows:\")\n",
    "print(df.head(3))\n",
    "\n",
    "# Delete rows with NaN values\n",
    "df.dropna(inplace=True)\n",
    "\n",
    "# Extract 'name' and 'score' columns\n",
    "name_score_df = df[['name', 'score']]\n",
    "\n",
    "# Append a new row 'k' to the DataFrame\n",
    "new_row = pd.Series({'name': 'Suresh', 'score': 15.5, 'attempts': 1, 'qualify': 'yes'}, name='k')\n",
    "df = df.append(new_row)\n",
    "\n",
    "# Delete the 'attempts' column\n",
    "df.drop('attempts', axis=1, inplace=True)\n",
    "\n",
    "# Add a new column 'Success'\n",
    "df['Success'] = df['score'].apply(lambda x: 1 if x > 10 else 0)\n",
    "\n",
    "# Export the DataFrame to a CSV file\n",
    "df.to_csv('my_data.csv')\n",
    "\n",
    "# Display the final DataFrame\n",
    "print(\"\\nFinal DataFrame:\")\n",
    "print(df)"
   ]
  }
 ],
 "metadata": {
  "kernelspec": {
   "display_name": "Python 3 (ipykernel)",
   "language": "python",
   "name": "python3"
  },
  "language_info": {
   "codemirror_mode": {
    "name": "ipython",
    "version": 3
   },
   "file_extension": ".py",
   "mimetype": "text/x-python",
   "name": "python",
   "nbconvert_exporter": "python",
   "pygments_lexer": "ipython3",
   "version": "3.10.9"
  }
 },
 "nbformat": 4,
 "nbformat_minor": 5
}
