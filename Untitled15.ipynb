{
 "cells": [
  {
   "cell_type": "code",
   "execution_count": 1,
   "id": "3d3109f1",
   "metadata": {},
   "outputs": [
    {
     "ename": "SyntaxError",
     "evalue": "invalid syntax (50419965.py, line 15)",
     "output_type": "error",
     "traceback": [
      "\u001b[1;36m  Cell \u001b[1;32mIn[1], line 15\u001b[1;36m\u001b[0m\n\u001b[1;33m    else:\u001b[0m\n\u001b[1;37m    ^\u001b[0m\n\u001b[1;31mSyntaxError\u001b[0m\u001b[1;31m:\u001b[0m invalid syntax\n"
     ]
    }
   ],
   "source": [
    "import random \n",
    "a=random.randint(1,100)\n",
    "while true:\n",
    "    \n",
    "    \n",
    "    b=int(input(\"entez un nombre entre 1 et 100\"))\n",
    "    if 1<b and b<100:\n",
    "        print(b)\n",
    "        break\n",
    "    else:\n",
    "        b=int(input(\"erreur,entez un nombre entre 1 et 100\"))\n",
    "        if 1<b and b<100:\n",
    "            print(b)\n",
    "            break\n",
    "    else:\n",
    "            continue\n",
    "i=0\n",
    "while i<3:\n",
    "    if a==b:\n",
    "        print(\"congratulations\")\n",
    "        break\n",
    "    elif a<b:\n",
    "        print(\"lower\")\n",
    "        while true:\n",
    "            b=int(input(\"entez un nombre entre 1 et 100\"))\n",
    "            if 1<b and b<100:\n",
    "                print(b)\n",
    "                break\n",
    "            else:\n",
    "                b=int(input(\"erreue,entez un nombre entre 1 et 100\"))\n",
    "                if 1<b and b<100:\n",
    "                    print(b)\n",
    "                    break\n",
    "                else:\n",
    "                    continue\n",
    "        i=i+1\n",
    "    else:\n",
    "        print(\"higher\")\n",
    "        while true:\n",
    "            b=int(input(\"entez un nombre entre 1 et 100\"))\n",
    "        if 1<b and b<100:\n",
    "            print(b)\n",
    "            break\n",
    "        else:\n",
    "            b=int(input(\"erreur,entez u nombre entre 1 et 100\"))\n",
    "            if 1<b and b<100:\n",
    "                print(b)\n",
    "                break\n",
    "            else:\n",
    "                continue\n",
    "        i=i+1"
   ]
  },
  {
   "cell_type": "code",
   "execution_count": null,
   "id": "b535f09e",
   "metadata": {},
   "outputs": [],
   "source": []
  },
  {
   "cell_type": "code",
   "execution_count": null,
   "id": "06a9e694",
   "metadata": {},
   "outputs": [],
   "source": []
  },
  {
   "cell_type": "code",
   "execution_count": null,
   "id": "853129c7",
   "metadata": {},
   "outputs": [],
   "source": []
  },
  {
   "cell_type": "code",
   "execution_count": null,
   "id": "7e61d71a",
   "metadata": {},
   "outputs": [],
   "source": []
  }
 ],
 "metadata": {
  "kernelspec": {
   "display_name": "Python 3 (ipykernel)",
   "language": "python",
   "name": "python3"
  },
  "language_info": {
   "codemirror_mode": {
    "name": "ipython",
    "version": 3
   },
   "file_extension": ".py",
   "mimetype": "text/x-python",
   "name": "python",
   "nbconvert_exporter": "python",
   "pygments_lexer": "ipython3",
   "version": "3.10.9"
  }
 },
 "nbformat": 4,
 "nbformat_minor": 5
}
